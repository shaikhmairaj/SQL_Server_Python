{
 "cells": [
  {
   "cell_type": "code",
   "execution_count": 1,
   "id": "4d1f6528-2a1f-4487-8fb5-365f752a5811",
   "metadata": {},
   "outputs": [
    {
     "name": "stdout",
     "output_type": "stream",
     "text": [
      "Requirement already satisfied: python-dotenv==1.0.1 in c:\\users\\mairaj\\anaconda3\\lib\\site-packages (1.0.1)\n",
      "Note: you may need to restart the kernel to use updated packages.\n"
     ]
    }
   ],
   "source": [
    "pip install python-dotenv==1.0.1"
   ]
  },
  {
   "cell_type": "code",
   "execution_count": 2,
   "id": "3b29c6d7-eef8-4f14-be4d-e2250f51f241",
   "metadata": {},
   "outputs": [
    {
     "name": "stdout",
     "output_type": "stream",
     "text": [
      "Requirement already satisfied: pyodbc==5.1.0 in c:\\users\\mairaj\\anaconda3\\lib\\site-packages (5.1.0)\n",
      "Note: you may need to restart the kernel to use updated packages.\n"
     ]
    }
   ],
   "source": [
    "pip install pyodbc==5.1.0"
   ]
  },
  {
   "cell_type": "code",
   "execution_count": 3,
   "id": "2cc648bb-d950-4efa-bf25-58f5446d1be1",
   "metadata": {},
   "outputs": [],
   "source": [
    "import pandas as pd"
   ]
  },
  {
   "cell_type": "code",
   "execution_count": 4,
   "id": "520c9fc3-86f5-4807-8e8e-7bf0f27b9de5",
   "metadata": {},
   "outputs": [],
   "source": [
    "cnxn_str = (\"Driver={ODBC Driver 17 for SQL Server};\"\n",
    "            \"Server=DESKTOP-S2U3P7D;\"\n",
    "            \"Database=BikeStore;\"\n",
    "           \"Trusted_Connection=yes;\")"
   ]
  },
  {
   "cell_type": "code",
   "execution_count": 5,
   "id": "9b7f801f-27c1-4343-8686-85d91f1cdb33",
   "metadata": {},
   "outputs": [],
   "source": [
    "import pyodbc"
   ]
  },
  {
   "cell_type": "code",
   "execution_count": 6,
   "id": "f3b5c100-07cd-4ba5-acd3-2875ca416e85",
   "metadata": {},
   "outputs": [],
   "source": [
    "cnxn = pyodbc.connect(cnxn_str)"
   ]
  },
  {
   "cell_type": "code",
   "execution_count": 7,
   "id": "438ccaeb-7da4-47a9-a7bb-98e3a2f87d77",
   "metadata": {},
   "outputs": [],
   "source": [
    "cursor = cnxn.cursor()"
   ]
  },
  {
   "cell_type": "code",
   "execution_count": 8,
   "id": "99deb2c8-9b08-4ee6-8d53-495978970505",
   "metadata": {},
   "outputs": [
    {
     "data": {
      "text/plain": [
       "<pyodbc.Cursor at 0x1ae2c3f71b0>"
      ]
     },
     "execution_count": 8,
     "metadata": {},
     "output_type": "execute_result"
    }
   ],
   "source": [
    "cursor.execute(\"SELECT * FROM sales.customers\")"
   ]
  },
  {
   "cell_type": "code",
   "execution_count": 11,
   "id": "f93564b4-0216-4775-82fb-75bd610c58c0",
   "metadata": {},
   "outputs": [
    {
     "name": "stderr",
     "output_type": "stream",
     "text": [
      "C:\\Users\\Mairaj\\AppData\\Local\\Temp\\ipykernel_3832\\1689080397.py:1: UserWarning: pandas only supports SQLAlchemy connectable (engine/connection) or database string URI or sqlite3 DBAPI2 connection. Other DBAPI2 objects are not tested. Please consider using SQLAlchemy.\n",
      "  df = pd.read_sql(\"Select * from sales.customers\", cnxn)\n"
     ]
    }
   ],
   "source": [
    "df = pd.read_sql(\"Select * from sales.customers\", cnxn)"
   ]
  },
  {
   "cell_type": "code",
   "execution_count": 12,
   "id": "2fb9f999-d90c-45d1-a3dd-c6007d9fb002",
   "metadata": {},
   "outputs": [
    {
     "name": "stdout",
     "output_type": "stream",
     "text": [
      "      customer_id  first_name last_name           phone  \\\n",
      "0               1       Debra     Burks            None   \n",
      "1               2       Kasha      Todd            None   \n",
      "2               3      Tameka    Fisher            None   \n",
      "3               4       Daryl    Spence            None   \n",
      "4               5  Charolette      Rice  (916) 381-6003   \n",
      "...           ...         ...       ...             ...   \n",
      "1440         1441      Jamaal  Morrison            None   \n",
      "1441         1442      Cassie     Cline            None   \n",
      "1442         1443      Lezlie      Lamb            None   \n",
      "1443         1444      Ivette     Estes            None   \n",
      "1444         1445       Ester   Acevedo            None   \n",
      "\n",
      "                        email                  street           city state  \\\n",
      "0       debra.burks@yahoo.com       9273 Thorne Ave.    Orchard Park    NY   \n",
      "1        kasha.todd@yahoo.com        910 Vine Street        Campbell    CA   \n",
      "2       tameka.fisher@aol.com   769C Honey Creek St.   Redondo Beach    CA   \n",
      "3        daryl.spence@aol.com         988 Pearl Lane       Uniondale    NY   \n",
      "4     charolette.rice@msn.com          107 River Dr.      Sacramento    CA   \n",
      "...                       ...                     ...            ...   ...   \n",
      "1440  jamaal.morrison@msn.com  796 SE. Nut Swamp St.   Staten Island    NY   \n",
      "1441   cassie.cline@gmail.com    947 Lafayette Drive        Brooklyn    NY   \n",
      "1442    lezlie.lamb@gmail.com  401 Brandywine Street   Central Islip    NY   \n",
      "1443   ivette.estes@gmail.com  88 N. Canterbury Ave.     Canandaigua    NY   \n",
      "1444  ester.acevedo@gmail.com        671 Miles Court     San Lorenzo    CA   \n",
      "\n",
      "     zip_code  \n",
      "0       14127  \n",
      "1       95008  \n",
      "2       90278  \n",
      "3       11553  \n",
      "4       95820  \n",
      "...       ...  \n",
      "1440    10301  \n",
      "1441    11201  \n",
      "1442    11722  \n",
      "1443    14424  \n",
      "1444    94580  \n",
      "\n",
      "[1445 rows x 9 columns]\n"
     ]
    }
   ],
   "source": [
    "print(df)"
   ]
  },
  {
   "cell_type": "code",
   "execution_count": 13,
   "id": "4e1aa799-b0be-430d-8f0c-4d5d8adf3976",
   "metadata": {},
   "outputs": [
    {
     "name": "stderr",
     "output_type": "stream",
     "text": [
      "C:\\Users\\Mairaj\\AppData\\Local\\Temp\\ipykernel_3832\\1077216475.py:1: UserWarning: pandas only supports SQLAlchemy connectable (engine/connection) or database string URI or sqlite3 DBAPI2 connection. Other DBAPI2 objects are not tested. Please consider using SQLAlchemy.\n",
      "  df = pd.read_sql(\"Select * from hr.candidates\", cnxn)\n"
     ]
    }
   ],
   "source": [
    "df = pd.read_sql(\"Select * from hr.candidates\", cnxn)"
   ]
  },
  {
   "cell_type": "code",
   "execution_count": 14,
   "id": "b87216da-37fa-4f4d-b962-530d54b8a318",
   "metadata": {},
   "outputs": [
    {
     "name": "stdout",
     "output_type": "stream",
     "text": [
      "   id       fullname\n",
      "0   1       John Doe\n",
      "1   2      Lily Bush\n",
      "2   3  Peter Drucker\n",
      "3   4       Jane Doe\n"
     ]
    }
   ],
   "source": [
    "print(df)"
   ]
  },
  {
   "cell_type": "code",
   "execution_count": 15,
   "id": "9fbb85c0-dcdf-4b63-afb8-b68f00461760",
   "metadata": {},
   "outputs": [
    {
     "name": "stderr",
     "output_type": "stream",
     "text": [
      "C:\\Users\\Mairaj\\AppData\\Local\\Temp\\ipykernel_3832\\272736753.py:1: UserWarning: pandas only supports SQLAlchemy connectable (engine/connection) or database string URI or sqlite3 DBAPI2 connection. Other DBAPI2 objects are not tested. Please consider using SQLAlchemy.\n",
      "  df = pd.read_sql(\"Select * from production.brands,sales.orders\", cnxn)\n"
     ]
    }
   ],
   "source": [
    "df = pd.read_sql(\"Select * from production.brands,sales.orders\", cnxn)"
   ]
  },
  {
   "cell_type": "code",
   "execution_count": 16,
   "id": "530af935-cda4-4bb8-96c9-0670f18961b7",
   "metadata": {},
   "outputs": [
    {
     "name": "stdout",
     "output_type": "stream",
     "text": [
      "       brand_id brand_name  order_id  customer_id  order_status  order_date  \\\n",
      "0             1    Electra         1          259             4  2016-01-01   \n",
      "1             1    Electra         2         1212             4  2016-01-01   \n",
      "2             1    Electra         3          523             4  2016-01-02   \n",
      "3             1    Electra         4          175             4  2016-01-03   \n",
      "4             1    Electra         5         1324             4  2016-01-03   \n",
      "...         ...        ...       ...          ...           ...         ...   \n",
      "14530         9       Trek      1611            6             3  2018-09-06   \n",
      "14531         9       Trek      1612            3             3  2018-10-21   \n",
      "14532         9       Trek      1613            1             3  2018-11-18   \n",
      "14533         9       Trek      1614          135             3  2018-11-28   \n",
      "14534         9       Trek      1615          136             3  2018-12-28   \n",
      "\n",
      "      required_date shipped_date  store_id  staff_id  \n",
      "0        2016-01-03   2016-01-03         1         2  \n",
      "1        2016-01-04   2016-01-03         2         6  \n",
      "2        2016-01-05   2016-01-03         2         7  \n",
      "3        2016-01-04   2016-01-05         1         3  \n",
      "4        2016-01-06   2016-01-06         2         6  \n",
      "...             ...          ...       ...       ...  \n",
      "14530    2018-09-06         None         2         7  \n",
      "14531    2018-10-21         None         1         3  \n",
      "14532    2018-11-18         None         2         6  \n",
      "14533    2018-11-28         None         3         8  \n",
      "14534    2018-12-28         None         3         8  \n",
      "\n",
      "[14535 rows x 10 columns]\n"
     ]
    }
   ],
   "source": [
    "print(df)"
   ]
  },
  {
   "cell_type": "code",
   "execution_count": 17,
   "id": "691e4996-0859-4aee-b72e-58057748bc94",
   "metadata": {},
   "outputs": [
    {
     "name": "stderr",
     "output_type": "stream",
     "text": [
      "C:\\Users\\Mairaj\\AppData\\Local\\Temp\\ipykernel_3832\\3876955664.py:1: UserWarning: pandas only supports SQLAlchemy connectable (engine/connection) or database string URI or sqlite3 DBAPI2 connection. Other DBAPI2 objects are not tested. Please consider using SQLAlchemy.\n",
      "  df = pd.read_sql(\"Select * from production.parts\", cnxn)\n"
     ]
    }
   ],
   "source": [
    "df = pd.read_sql(\"Select * from production.parts\", cnxn)"
   ]
  },
  {
   "cell_type": "code",
   "execution_count": 18,
   "id": "0ba40ad3-22e5-4db2-bf5b-bda2329b6c87",
   "metadata": {},
   "outputs": [
    {
     "name": "stdout",
     "output_type": "stream",
     "text": [
      "   part_id       part_name\n",
      "0        1           Frame\n",
      "1        2       Head Tube\n",
      "2        3  Handlebar Grip\n",
      "3        4  Shock Absorber\n",
      "4        5            Fork\n"
     ]
    }
   ],
   "source": [
    "print(df)"
   ]
  },
  {
   "cell_type": "code",
   "execution_count": null,
   "id": "b7f62b0d-ca1b-424f-94c8-f249f88004b5",
   "metadata": {},
   "outputs": [],
   "source": []
  }
 ],
 "metadata": {
  "kernelspec": {
   "display_name": "Python 3 (ipykernel)",
   "language": "python",
   "name": "python3"
  },
  "language_info": {
   "codemirror_mode": {
    "name": "ipython",
    "version": 3
   },
   "file_extension": ".py",
   "mimetype": "text/x-python",
   "name": "python",
   "nbconvert_exporter": "python",
   "pygments_lexer": "ipython3",
   "version": "3.12.7"
  }
 },
 "nbformat": 4,
 "nbformat_minor": 5
}
